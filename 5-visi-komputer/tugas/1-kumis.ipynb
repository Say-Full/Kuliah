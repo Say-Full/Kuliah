{
 "cells": [
  {
   "cell_type": "code",
   "execution_count": 8,
   "id": "bc539704",
   "metadata": {},
   "outputs": [],
   "source": [
    "import numpy as np\n",
    "import cv2\n",
    "\n",
    "face_cascade = cv2.CascadeClassifier(cv2.data.haarcascades +'haarcascade_frontalface_default.xml')\n",
    "mus_ori = cv2.imread('gambar/mustache.png', -1)\n",
    "\n",
    "cap = cv2.VideoCapture(0) \n",
    "cap.set(cv2.CAP_PROP_FPS, 30)\n",
    "\n",
    "\n",
    "def transparentOverlay(src, overlay, pos = (0, 0), scale = 1):\n",
    "    overlay = cv2.resize(overlay, (0, 0), fx = scale, fy = scale)\n",
    "    h, w, _ = overlay.shape\n",
    "    rows, cols, _ = src.shape\n",
    "    y, x = pos[0], pos[1]\n",
    "\n",
    "    for i in range(h):\n",
    "        for j in range(w):\n",
    "            if x + i >= rows or y + j >= cols:\n",
    "                continue\n",
    "            alpha = float(overlay[i][j][3] / 255.0)\n",
    "            src[x + i][y + j] = alpha * overlay[i][j][:3] + (1 - alpha) * src[x + i][y + j]\n",
    "    return src\n",
    "\n",
    "while 1:\n",
    "    ret, img = cap.read()\n",
    "    gray = cv2.cvtColor(img, cv2.COLOR_BGR2GRAY)\n",
    "    faces = face_cascade.detectMultiScale(img, 1.2, 5, 0, (120, 120), (350, 350))\n",
    "    \n",
    "    for (x, y, w, h) in faces:\n",
    "        if h > 0 and w > 0:\n",
    "            mus_symin = int(y + 3.5 * h / 6)\n",
    "            mus_symax = int(y + 5 * h / 6)\n",
    "            sh_mus = mus_symax - mus_symin\n",
    "\n",
    "            face_mus_roi_color = img[mus_symin:mus_symax, x:x + w]\n",
    "            mustache = cv2.resize(mus_ori, (w, sh_mus), interpolation = cv2.INTER_CUBIC)\n",
    "            transparentOverlay(face_mus_roi_color, mustache)\n",
    "\n",
    "    cv2.imshow('Kumis', img)\n",
    "    key = cv2.waitKey(1) & 0xFF\n",
    "    if key == ord(\"q\"):\n",
    "        break\n",
    "\n",
    "cap.release()\n",
    "cv2.destroyAllWindows()"
   ]
  }
 ],
 "metadata": {
  "kernelspec": {
   "display_name": "Python 3",
   "language": "python",
   "name": "python3"
  },
  "language_info": {
   "codemirror_mode": {
    "name": "ipython",
    "version": 3
   },
   "file_extension": ".py",
   "mimetype": "text/x-python",
   "name": "python",
   "nbconvert_exporter": "python",
   "pygments_lexer": "ipython3",
   "version": "3.8.8"
  }
 },
 "nbformat": 4,
 "nbformat_minor": 5
}
